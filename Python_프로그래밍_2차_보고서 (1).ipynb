{
  "nbformat": 4,
  "nbformat_minor": 0,
  "metadata": {
    "colab": {
      "name": "Python 프로그래밍_2차 보고서",
      "provenance": [],
      "collapsed_sections": [
        "m-8Bv096hI0B"
      ]
    },
    "kernelspec": {
      "name": "python3",
      "display_name": "Python 3"
    }
  },
  "cells": [
    {
      "cell_type": "markdown",
      "source": [
        "### **1. 정수형** \n",
        "-- (다양한 진법 표현)"
      ],
      "metadata": {
        "id": "0PvSpN7cx_jX"
      }
    },
    {
      "cell_type": "code",
      "source": [
        "# 다양한 데이터 표현 : 2진법, 8진법, 10진법, 16진법\n",
        "# int(num, radix) : raidx 진수로 표현된 문자열 num을 10진수로 반환\n",
        "\n",
        "print(int('00000010', 2))\n",
        "print(int('00000010', 8))\n",
        "print(int('00000010', 10))\n",
        "print(int('00000010', 16))\n",
        "\n",
        "# 다양한 진법 변환\n",
        "print(bin(10)) # bin : 정수 형태의 숫자를 2진수(binary) 로 변환(0b)\n",
        "print(oct(10)) # oct : 정수 형태의 숫자를 8진수(octal)로 변환(0o)\n",
        "print(hex(10)) # hex : 정수 형태의 숫자를 16진수(hexadecimal)로 변환(0x)"
      ],
      "metadata": {
        "colab": {
          "base_uri": "https://localhost:8080/"
        },
        "id": "bESjOjkWyISf",
        "outputId": "4f83e7b1-8bdb-4250-827f-51d51a4a58d4"
      },
      "execution_count": null,
      "outputs": [
        {
          "output_type": "stream",
          "name": "stdout",
          "text": [
            "2\n",
            "8\n",
            "10\n",
            "16\n",
            "0b1010\n",
            "0o12\n",
            "0xa\n"
          ]
        }
      ]
    },
    {
      "cell_type": "markdown",
      "source": [
        "### **2. 리스트** \n",
        "리스트 부분 항목"
      ],
      "metadata": {
        "id": "eAbiqI1lyvqo"
      }
    },
    {
      "cell_type": "code",
      "source": [
        "# 리스트 생성 및 초기화\n",
        "sList = ['국어', '영어', '수학', '과학']\n",
        "\n",
        "# 리스트 원소 접근\n",
        "sList[:] # ['국어', '영어', '수학', '과학']\n",
        "sList[0:4] # ['국어', '영어', '수학', '과학']\n",
        "sList[:3] # ['국어', '영어', '수학']\n",
        "sList[1:] # ['영어', '수학', '과학']\n",
        "\n",
        "sList[1] = '역사' # ['국어', '역사', '수학', '과학']\n",
        "sList[1:3] = ['영어', '철학'] # ['국어', '영어', '철학', '과학']\n",
        "\n",
        "sList[1:2] = ['정치', '경제'] # ['국어', '정치', '경제', '철학', '과학']\n",
        "sList[1:3] =  ['사회'] # ['국어', '사회', '철학', '과학']"
      ],
      "metadata": {
        "id": "pHBt-Urpz_uB"
      },
      "execution_count": null,
      "outputs": []
    },
    {
      "cell_type": "markdown",
      "source": [
        "### **3. input 내장 함수** "
      ],
      "metadata": {
        "id": "XCeog8WRzHQ5"
      }
    },
    {
      "cell_type": "code",
      "source": [
        "# 1) 데이터 입력: 사용자로부터 두 개의 정수\n",
        "x = int(input('첫 번째 정수 입력: '))\n",
        "y = int(input('두 번째 정수 입력: '))\n",
        "\n",
        "# 2) 계산 작업\n",
        "sum = x + y\n",
        "\n",
        "# 3) 결과 출력\n",
        "print(x, '와', y, '의 합은', sum, '입니다')\n",
        "print(str(x) + '와' + str(y) + '의 합은' + str(sum) + '입니다.')\n",
        "\n",
        "# 다양한 문자열 포매팅\n",
        "print('%d 와 %d 의 합은 %d 입니다.' % (x, y, sum))\n",
        "print('{} 와 {} 의 합은 {} 입니다.'.format(x, y, sum))\n",
        "print(f'{x} 와 {y} 의 합은 {sum} 입니다.')"
      ],
      "metadata": {
        "colab": {
          "base_uri": "https://localhost:8080/"
        },
        "id": "tE4Z-_rS0vu-",
        "outputId": "1aa71c86-8aa0-4913-9645-bd55d702a559"
      },
      "execution_count": null,
      "outputs": [
        {
          "output_type": "stream",
          "name": "stdout",
          "text": [
            "첫 번째 정수 입력: 3\n",
            "두 번째 정수 입력: 5\n",
            "3 와 5 의 합은 8 입니다\n",
            "3와5의 합은8입니다.\n",
            "3 와 5 의 합은 8 입니다.\n",
            "3 와 5 의 합은 8 입니다.\n",
            "3 와 5 의 합은 8 입니다.\n"
          ]
        }
      ]
    },
    {
      "cell_type": "markdown",
      "source": [
        "### **4. print 내장 함수** "
      ],
      "metadata": {
        "id": "r940-F8szHql"
      }
    },
    {
      "cell_type": "code",
      "execution_count": null,
      "metadata": {
        "colab": {
          "base_uri": "https://localhost:8080/"
        },
        "id": "wdrlU_Ysfq32",
        "outputId": "c3d83a33-2448-4add-99db-7e812852d594"
      },
      "outputs": [
        {
          "output_type": "stream",
          "name": "stdout",
          "text": [
            "전체 원소: [10, 20, 30, 40, 50]\n",
            "전체 원소 개수: 5\n",
            "데이터 10의 총 개수: 1\n",
            "데이터 20의 총 개수: 1\n",
            "데이터 30의 총 개수: 1\n",
            "전체 원소 합계: 150\n",
            "전체 원소 평균: 30.0\n",
            "전체 원소 최댓값: 50\n",
            "전체 원소 최댓값: 10\n"
          ]
        }
      ],
      "source": [
        "# 리스트 생성 및 초기화\n",
        "aList = [10, 20, 30]\n",
        "\n",
        "# append 메소드 : 리스트 맨 마지막 원소로 추가\n",
        "aList.append(40)\n",
        "aList.append(50)\n",
        "\n",
        "# 내장 함수 : len\n",
        "print(f'전체 원소: {aList}')\n",
        "print(f'전체 원소 개수: {len(aList)}')\n",
        "\n",
        "# count 메소드 : 특정 원소의 총 개수\n",
        "print(f'데이터 10의 총 개수: {aList.count(10)}')\n",
        "print(f'데이터 20의 총 개수: {aList.count(20)}')\n",
        "print(f'데이터 30의 총 개수: {aList.count(30)}')\n",
        "\n",
        "# 내장 함수 :  len, sum\n",
        "print(f'전체 원소 합계: {sum(aList)}')\n",
        "print(f'전체 원소 평균: {sum(aList)/len(aList)}')\n",
        "\n",
        "# 내장 함수 : max, min\n",
        "print(f'전체 원소 최댓값: {max(aList)}')\n",
        "print(f'전체 원소 최댓값: {min(aList)}')"
      ]
    },
    {
      "cell_type": "markdown",
      "source": [
        "### **5. 논리 연산자** "
      ],
      "metadata": {
        "id": "63pxTJ0UzHxi"
      }
    },
    {
      "cell_type": "code",
      "source": [
        "a = 5\n",
        "print(a<5 and a<10) # False\n",
        "print(a<5 or a<6) # True\n",
        "print(not(a<5 and a<10)) # True\n",
        "\n",
        "print(True and False) # False\n",
        "print(True or False) # True\n",
        "print(not True) # False\n",
        "\n",
        "print(1 and 0) # 0\n",
        "print(1 or 0) # 1\n",
        "print(not 1) # False\n",
        "\n",
        "print(5 and -5) # -5\n",
        "print(5 or -5) # 5\n",
        "print(not 5) # False"
      ],
      "metadata": {
        "colab": {
          "base_uri": "https://localhost:8080/"
        },
        "id": "txMlIiakkXhW",
        "outputId": "2dec9e31-a7e4-40a2-ff06-c5c797359a4f"
      },
      "execution_count": null,
      "outputs": [
        {
          "output_type": "stream",
          "name": "stdout",
          "text": [
            "False\n",
            "True\n",
            "True\n",
            "False\n",
            "True\n",
            "False\n",
            "0\n",
            "1\n",
            "False\n",
            "-5\n",
            "5\n",
            "False\n"
          ]
        }
      ]
    },
    {
      "cell_type": "markdown",
      "source": [
        "### **6. 이중 선택** "
      ],
      "metadata": {
        "id": "G3Qmv75RzH1_"
      }
    },
    {
      "cell_type": "code",
      "source": [
        "print('학생 성적(0~100)을 입력하시오...')\n",
        "num = int(input('num: '))\n",
        "\n",
        "# 짝수와 홀수 판단: 단순 if-else\n",
        "if num % 2 == 0:\n",
        "  print(f'{num}은 짝수입니다.')\n",
        "else:\n",
        "  print(f'{num}은 홀수입니다.')\n",
        "\n",
        "# Pass, Non-Pass 판단: 복합문\n",
        "if num >=60:\n",
        "  print('Pass, ', end = '')\n",
        "  print('축하드립니다.')\n",
        "else:\n",
        "  print('Non-Pass, ', end = '\\t')\n",
        "  print('내년에 다시 뵈여.')"
      ],
      "metadata": {
        "colab": {
          "base_uri": "https://localhost:8080/"
        },
        "id": "aRLplqq8BmYB",
        "outputId": "72326d9a-3f92-4c26-a710-a23edb36a0aa"
      },
      "execution_count": null,
      "outputs": [
        {
          "output_type": "stream",
          "name": "stdout",
          "text": [
            "학생 성적(0~100)을 입력하시오...\n",
            "num: 55\n",
            "55은 홀수입니다.\n",
            "Non-Pass, \t내년에 다시 뵈여.\n"
          ]
        }
      ]
    },
    {
      "cell_type": "markdown",
      "source": [
        "![image.png](data:image/png;base64,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)\n",
        "\n",
        "97을 입력했을 때의 실행 결과."
      ],
      "metadata": {
        "id": "CRKcpyeV2glz"
      }
    },
    {
      "cell_type": "markdown",
      "source": [
        "### **7. 성적 계산**\n",
        "총점과 평균 --일반 변수\n",
        "성적 계산 : 사용자로부터 세 과목(국어, 영어, 수학)의 점수를 입력 받은 후에, 총점과 평균을 구하는 프로그램을 작성하시오.\n",
        "\n",
        "사용자로부터 입력 받는 데이터는 모두 정수 형태이다.\n",
        "\n",
        "- 각각의 데이터에 대하여 **일반 변수 개념**을 이용하여 저장하시오.\n",
        "\n",
        "단 평균 계산 결과 값은 실수이다.\n",
        "\n",
        "- 계산 결과인 실수 값은 소수점 둘째자리까지만 출력한다."
      ],
      "metadata": {
        "id": "Fhcu6pRxzH7G"
      }
    },
    {
      "cell_type": "code",
      "source": [
        "print(\"세 과목의 점수를 입력하시오...\")\n",
        "kor = int(input('국어: ')) # 국어 성적\n",
        "eng = int(input('영어: ')) # 영어 성적\n",
        "math = int(input('수학: ')) # 수학 성적\n",
        "\n",
        "sum = kor + eng + math # 총합\n",
        "\n",
        "print(f'총점: {sum}, 평균: {round(sum/3, 2)}')"
      ],
      "metadata": {
        "colab": {
          "base_uri": "https://localhost:8080/"
        },
        "id": "pKd0Cb7T22GD",
        "outputId": "b28ca047-8950-4315-c449-78bda47c4e5e"
      },
      "execution_count": null,
      "outputs": [
        {
          "output_type": "stream",
          "name": "stdout",
          "text": [
            "세 과목의 점수를 입력하시오...\n",
            "국어: 70\n",
            "영어: 80\n",
            "수학: 91\n",
            "총점: 241, 평균: 80.33\n"
          ]
        }
      ]
    },
    {
      "cell_type": "markdown",
      "source": [
        "각 과목의 성적을 input 함수로 받은 후 int 함수를 통해 정수형으로 만들어 준다.\n",
        "\n",
        "각 과목의 합을 sum 변수에 할당한 후, 과목의 총 개수인 3으로 나눈 평균 값을 round 함수를 통해 소수점 셋째자리에서 반올림하여 출력한다. "
      ],
      "metadata": {
        "id": "as83AWY-qXUy"
      }
    },
    {
      "cell_type": "markdown",
      "source": [
        "### **8. 성적 계산**\n",
        "총점과 평균 -- 리스트 "
      ],
      "metadata": {
        "id": "7tyEr_LxzH_-"
      }
    },
    {
      "cell_type": "markdown",
      "source": [
        "성적 계산 : 사용자로부터 세 과목(국어, 영어, 수학)의 점수를 입력 받은 후에, 총점과 평균을 구하는 프로그램을 작성하시오.\n",
        "\n",
        "사용자로부터 입력 받는 데이터는 모두 정수 형태이다.\n",
        "\n",
        "- 각각의 데이터에 대하여 **리스트 개념**을 이용하여 저장하시오.\n",
        "\n",
        "- 리스트의 맨 마지막 원소로 추가하는 append 메소드를 활용하시오.\n",
        "\n",
        "단 평균 계산 결과 값은 실수이다.\n",
        "\n",
        "- 계산 결과인 실수 값은 소수점 둘째자리까지만 출력한다."
      ],
      "metadata": {
        "id": "RL4Fb8gojOr6"
      }
    },
    {
      "cell_type": "code",
      "source": [
        "print(\"세 과목의 점수를 입력하시오...\")\n",
        "score = [] # 과목 성적 리스트\n",
        "score.append(int(input(\"국어: \"))) # 국어 성적 추가 \n",
        "score.append(int(input(\"영어: \"))) # 영어 성적 추가\n",
        "score.append(int(input(\"수학: \"))) # 수학 성적 추가\n",
        "\n",
        "print(f\"총점: {sum(score)}, 평균: {round(sum(score)/len(score), 2)}\")"
      ],
      "metadata": {
        "colab": {
          "base_uri": "https://localhost:8080/"
        },
        "id": "NZ9IJsVOh06U",
        "outputId": "5939626a-a07e-4aed-a4a4-c6cf7cbdcb39"
      },
      "execution_count": null,
      "outputs": [
        {
          "output_type": "stream",
          "name": "stdout",
          "text": [
            "세 과목의 점수를 입력하시오...\n",
            "국어: 70\n",
            "영어: 80\n",
            "수학: 91\n",
            "총점: 241, 평균: 80.33\n"
          ]
        }
      ]
    },
    {
      "cell_type": "markdown",
      "source": [
        "세 과목의 점수를 element로 갖는 리스트 score 를 빈 리스트로 생성해준 후, int, input 함수를 통해 받은 값을 score 리스트에 append 함수를 사용하여 추가해준다.\n",
        "\n",
        "과목의 총점은 리스트에 sum 함수를 사용한 sum(score)가 되고, 과목의 평균은 총점에 과목의 총 개수, 즉 리스트의 길이인 len(score)로 나눈 값이 된다.\n",
        "\n",
        "평균 값은 round 함수를 사용해 반올림하여 소수점 둘째자리까지 출력할 수 있도록 하였다."
      ],
      "metadata": {
        "id": "TDH1fkLswh4J"
      }
    },
    {
      "cell_type": "markdown",
      "source": [
        "### **9. 자판기 잔돈 계산** "
      ],
      "metadata": {
        "id": "Ic6BgfW4zIJ5"
      }
    },
    {
      "cell_type": "markdown",
      "source": [
        "자판기 잔돈 계산 : 사용자로부터 천원 단위로 금액을 입력받은 후에, 거스름 돈을 계산하는 프로그램을 작성하시오.\n",
        "- 단, 금액은 1,000원 단위 지폐만 입력 받을 수 있다고 가정하자.\n",
        "- 커피 값은 250원이라고 가정하자.\n",
        "- 거스름 돈은 500원, 100원, 50원, 10원짜리 동전이다.\n",
        "\n",
        "사용자로부터 입력된 금액에서 커피 값만큼 제외하고, 나머지 거스름돈을 동전으로 지불하는 프로그램을 작성하시오."
      ],
      "metadata": {
        "id": "-7szWesM242J"
      }
    },
    {
      "cell_type": "code",
      "source": [
        "money = int(input(\"금액을 입력하세요(1,000원 단위): \"))\n",
        "print(\"그대에게 잔돈을 드릴게요...\")\n",
        "\n",
        "money -= 250 # 커피 구매\n",
        "\n",
        "coin = [500, 100, 50, 10] # 500원 짜리, 100원 짜리, 50원 짜리, 10원 짜리 동전.\n",
        "for i in range(len(coin)): # 모든 종류의 동전에 대해\n",
        "  print(f\"{coin[i]}원짜리 동전: {money//coin[i]}개\") # 거스름돈에서 동전 값 나눈 몫 = 동전 개수\n",
        "  money = money % coin[i] # 계산한 동전을 제외한 나머지 거스름돈"
      ],
      "metadata": {
        "colab": {
          "base_uri": "https://localhost:8080/"
        },
        "id": "vGF-9OVwzWdh",
        "outputId": "d6bd05a7-e85f-41ea-89f3-a4ff10871268"
      },
      "execution_count": null,
      "outputs": [
        {
          "output_type": "stream",
          "name": "stdout",
          "text": [
            "금액을 입력하세요(1,000원 단위): 1000\n",
            "그대에게 잔돈을 드릴게요...\n",
            "500원짜리 동전: 1개\n",
            "100원짜리 동전: 2개\n",
            "50원짜리 동전: 1개\n",
            "10원짜리 동전: 0개\n"
          ]
        }
      ]
    },
    {
      "cell_type": "markdown",
      "source": [
        "우선, int, input 함수를 사용하여 사용자가 자판기에 넣은 금액을 변수 money에 입력 받는다.\n",
        "\n",
        "그 후, 커피 값인 250을 money에서 빼고 거스름돈으로 지불할 동전의 종류인 coin 리스트를 생성한다. 이때, coin 리스트는 가장 값이 큰 동전부터 값이 점점 작아지도록 생성한다.\n",
        "\n",
        "for 반복문을 통해 coin에 속한 동전의 종류를 모두 방문하여, money 값을 동전의 값으로 나눈 몫을 해당 종류의 동전의 개수로 출력할 수 있도록 하였고, 나머지를 그대로 money에 할당하여 for 문이 정상적으로 작동할 수 있도록 하였다."
      ],
      "metadata": {
        "id": "ro_9fq1fxOIA"
      }
    },
    {
      "cell_type": "markdown",
      "source": [
        "### **10. 초를 시간, 분, 초 형식으로 변환** \n",
        "사용자로부터 초(seconds)를 입력 받은 후에 몇 시간, 몇 분, 몇 초인가를 계산하는 프로그램을 작성하시오.\n",
        "- 사용자로부터 입력 받은 데이터(초)는 정수 형태이다.\n",
        "- 단, 분과 초는 0~59 사이 값만 출력 되어야 한다."
      ],
      "metadata": {
        "id": "bb-QeTUv_1LC"
      }
    },
    {
      "cell_type": "code",
      "source": [
        "sec = int(input('계산하고자 하는 초를 입력하세요: ')) # 입력 받은 초\n",
        "print(f'{sec}초는...')\n",
        "minute = sec // 60 # 입력 받은 초가 몇 분인지\n",
        "sec = sec % 60\n",
        "hour = minute // 60 # 위에서 계산한 분이 총 몇 시간인지\n",
        "minute = minute % 60\n",
        "\n",
        "print(f'{hour}시간, {minute}분, {sec}초입니다.')"
      ],
      "metadata": {
        "colab": {
          "base_uri": "https://localhost:8080/"
        },
        "id": "9EvDquFr8q7W",
        "outputId": "451628b9-9de5-4c9c-842b-c1033c02eb63"
      },
      "execution_count": null,
      "outputs": [
        {
          "output_type": "stream",
          "name": "stdout",
          "text": [
            "계산하고자 하는 초를 입력하세요: 12001\n",
            "12001초는...\n",
            "3시간, 20분, 1초입니다.\n"
          ]
        }
      ]
    },
    {
      "cell_type": "markdown",
      "source": [
        "sec 변수에 사용자로부터 입력받은 초를 할당하고, 1분이 60초이기 때문에 minute 변수에 sec을 60으로 나눈 몫으로 하였다.\n",
        "\n",
        "그리고 나머지를 sec으로 하여 초를 나타내었다.\n",
        "\n",
        "minute도 60이 넘을 수 있기 때문에 1시간은 60분이므로 60으로 나눈 몫을 hour로, 나머지를 다시 minute에 할당하여 시간과 분을 계산하였다."
      ],
      "metadata": {
        "id": "V0SzgiUMyW66"
      }
    }
  ]
}